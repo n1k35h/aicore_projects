{
 "cells": [
  {
   "cell_type": "code",
   "execution_count": 0,
   "metadata": {
    "application/vnd.databricks.v1+cell": {
     "cellMetadata": {
      "byteLimit": 2048000,
      "rowLimit": 10000
     },
     "inputWidgets": {},
     "nuid": "6473e873-56e3-4340-b276-faf921e84935",
     "showTitle": false,
     "title": ""
    }
   },
   "outputs": [
    {
     "output_type": "display_data",
     "data": {
      "text/html": [
       "<style scoped>\n",
       "  .ansiout {\n",
       "    display: block;\n",
       "    unicode-bidi: embed;\n",
       "    white-space: pre-wrap;\n",
       "    word-wrap: break-word;\n",
       "    word-break: break-all;\n",
       "    font-family: \"Menlo\", \"Monaco\", \"Consolas\", \"Ubuntu Mono\", \"Source Code Pro\", monospace;\n",
       "    font-size: 13px;\n",
       "    color: #555;\n",
       "    margin-left: 4px;\n",
       "    line-height: 19px;\n",
       "  }\n",
       "</style>\n",
       "<div class=\"ansiout\"></div>"
      ]
     },
     "metadata": {
      "application/vnd.databricks.v1+output": {
       "addedWidgets": {},
       "arguments": {},
       "data": "<div class=\"ansiout\"></div>",
       "datasetInfos": [],
       "metadata": {},
       "removedWidgets": [],
       "type": "html"
      }
     },
     "output_type": "display_data"
    }
   ],
   "source": [
    "# pyspark functions\n",
    "from pyspark.sql.functions import *\n",
    "# URL processing\n",
    "import urllib"
   ]
  },
  {
   "cell_type": "code",
   "execution_count": 0,
   "metadata": {
    "application/vnd.databricks.v1+cell": {
     "cellMetadata": {
      "byteLimit": 2048000,
      "rowLimit": 10000
     },
     "inputWidgets": {},
     "nuid": "26219c77-094c-4cfe-8d21-b44f24da7935",
     "showTitle": false,
     "title": ""
    }
   },
   "outputs": [
    {
     "output_type": "display_data",
     "data": {
      "text/html": [
       "<style scoped>\n",
       "  .ansiout {\n",
       "    display: block;\n",
       "    unicode-bidi: embed;\n",
       "    white-space: pre-wrap;\n",
       "    word-wrap: break-word;\n",
       "    word-break: break-all;\n",
       "    font-family: \"Menlo\", \"Monaco\", \"Consolas\", \"Ubuntu Mono\", \"Source Code Pro\", monospace;\n",
       "    font-size: 13px;\n",
       "    color: #555;\n",
       "    margin-left: 4px;\n",
       "    line-height: 19px;\n",
       "  }\n",
       "</style>\n",
       "<div class=\"ansiout\">Out[8]: [FileInfo(path=&#39;dbfs:/FileStore/tables/authentication_credentials.csv&#39;, name=&#39;authentication_credentials.csv&#39;, size=202, modificationTime=1687110999000),\n",
       " FileInfo(path=&#39;dbfs:/FileStore/tables/geo_dirty.csv/&#39;, name=&#39;geo_dirty.csv/&#39;, size=0, modificationTime=1702493373798),\n",
       " FileInfo(path=&#39;dbfs:/FileStore/tables/pin_dirty.csv/&#39;, name=&#39;pin_dirty.csv/&#39;, size=0, modificationTime=1702493373798),\n",
       " FileInfo(path=&#39;dbfs:/FileStore/tables/single_json_file.json&#39;, name=&#39;single_json_file.json&#39;, size=293, modificationTime=1701857903000),\n",
       " FileInfo(path=&#39;dbfs:/FileStore/tables/user_dirty.csv/&#39;, name=&#39;user_dirty.csv/&#39;, size=0, modificationTime=1702493373798)]</div>"
      ]
     },
     "metadata": {
      "application/vnd.databricks.v1+output": {
       "addedWidgets": {},
       "arguments": {},
       "data": "<div class=\"ansiout\">Out[8]: [FileInfo(path=&#39;dbfs:/FileStore/tables/authentication_credentials.csv&#39;, name=&#39;authentication_credentials.csv&#39;, size=202, modificationTime=1687110999000),\n FileInfo(path=&#39;dbfs:/FileStore/tables/geo_dirty.csv/&#39;, name=&#39;geo_dirty.csv/&#39;, size=0, modificationTime=1702493373798),\n FileInfo(path=&#39;dbfs:/FileStore/tables/pin_dirty.csv/&#39;, name=&#39;pin_dirty.csv/&#39;, size=0, modificationTime=1702493373798),\n FileInfo(path=&#39;dbfs:/FileStore/tables/single_json_file.json&#39;, name=&#39;single_json_file.json&#39;, size=293, modificationTime=1701857903000),\n FileInfo(path=&#39;dbfs:/FileStore/tables/user_dirty.csv/&#39;, name=&#39;user_dirty.csv/&#39;, size=0, modificationTime=1702493373798)]</div>",
       "datasetInfos": [],
       "metadata": {},
       "removedWidgets": [],
       "type": "html"
      }
     },
     "output_type": "display_data"
    }
   ],
   "source": [
    "dbutils.fs.ls(\"/FileStore/tables\")"
   ]
  },
  {
   "cell_type": "code",
   "execution_count": 0,
   "metadata": {
    "application/vnd.databricks.v1+cell": {
     "cellMetadata": {
      "byteLimit": 2048000,
      "rowLimit": 10000
     },
     "inputWidgets": {},
     "nuid": "471173e4-4fe4-4b3f-8854-abcc0de171a3",
     "showTitle": false,
     "title": ""
    }
   },
   "outputs": [
    {
     "output_type": "display_data",
     "data": {
      "text/html": [
       "<style scoped>\n",
       "  .ansiout {\n",
       "    display: block;\n",
       "    unicode-bidi: embed;\n",
       "    white-space: pre-wrap;\n",
       "    word-wrap: break-word;\n",
       "    word-break: break-all;\n",
       "    font-family: \"Menlo\", \"Monaco\", \"Consolas\", \"Ubuntu Mono\", \"Source Code Pro\", monospace;\n",
       "    font-size: 13px;\n",
       "    color: #555;\n",
       "    margin-left: 4px;\n",
       "    line-height: 19px;\n",
       "  }\n",
       "</style>\n",
       "<div class=\"ansiout\"></div>"
      ]
     },
     "metadata": {
      "application/vnd.databricks.v1+output": {
       "addedWidgets": {},
       "arguments": {},
       "data": "<div class=\"ansiout\"></div>",
       "datasetInfos": [],
       "metadata": {},
       "removedWidgets": [],
       "type": "html"
      }
     },
     "output_type": "display_data"
    }
   ],
   "source": [
    "# Specify file type to be csv\n",
    "file_type = \"csv\"\n",
    "# Indicates file has first row as the header\n",
    "first_row_is_header = \"true\"\n",
    "# Indicates file has comma as the delimeter\n",
    "delimiter = \",\"\n",
    "# Read the CSV file to spark dataframe\n",
    "aws_keys_df = spark.read.format(file_type)\\\n",
    ".option(\"header\", first_row_is_header)\\\n",
    ".option(\"sep\", delimiter)\\\n",
    ".load(\"/FileStore/tables/authentication_credentials.csv\")"
   ]
  },
  {
   "cell_type": "code",
   "execution_count": 0,
   "metadata": {
    "application/vnd.databricks.v1+cell": {
     "cellMetadata": {
      "byteLimit": 2048000,
      "rowLimit": 10000
     },
     "inputWidgets": {},
     "nuid": "7de93c1a-9048-46a7-95cb-79441a51f668",
     "showTitle": false,
     "title": ""
    }
   },
   "outputs": [
    {
     "output_type": "display_data",
     "data": {
      "text/html": [
       "<style scoped>\n",
       "  .ansiout {\n",
       "    display: block;\n",
       "    unicode-bidi: embed;\n",
       "    white-space: pre-wrap;\n",
       "    word-wrap: break-word;\n",
       "    word-break: break-all;\n",
       "    font-family: \"Menlo\", \"Monaco\", \"Consolas\", \"Ubuntu Mono\", \"Source Code Pro\", monospace;\n",
       "    font-size: 13px;\n",
       "    color: #555;\n",
       "    margin-left: 4px;\n",
       "    line-height: 19px;\n",
       "  }\n",
       "</style>\n",
       "<div class=\"ansiout\"></div>"
      ]
     },
     "metadata": {
      "application/vnd.databricks.v1+output": {
       "addedWidgets": {},
       "arguments": {},
       "data": "<div class=\"ansiout\"></div>",
       "datasetInfos": [],
       "metadata": {},
       "removedWidgets": [],
       "type": "html"
      }
     },
     "output_type": "display_data"
    }
   ],
   "source": [
    "# Get the AWS access key and secret key from the spark dataframe\n",
    "ACCESS_KEY = aws_keys_df.where(col('User name')=='databricks-user').select('Access key ID').collect()[0]['Access key ID']\n",
    "SECRET_KEY = aws_keys_df.where(col('User name')=='databricks-user').select('Secret access key').collect()[0]['Secret access key']\n",
    "# Encode the secrete key\n",
    "ENCODED_SECRET_KEY = urllib.parse.quote(string=SECRET_KEY, safe=\"\")"
   ]
  },
  {
   "cell_type": "code",
   "execution_count": 0,
   "metadata": {
    "application/vnd.databricks.v1+cell": {
     "cellMetadata": {
      "byteLimit": 2048000,
      "rowLimit": 10000
     },
     "inputWidgets": {},
     "nuid": "e55da8de-a273-4047-9c5e-d6c35592753d",
     "showTitle": false,
     "title": ""
    }
   },
   "outputs": [
    {
     "output_type": "display_data",
     "data": {
      "text/html": [
       "<style scoped>\n",
       "  .ansiout {\n",
       "    display: block;\n",
       "    unicode-bidi: embed;\n",
       "    white-space: pre-wrap;\n",
       "    word-wrap: break-word;\n",
       "    word-break: break-all;\n",
       "    font-family: \"Menlo\", \"Monaco\", \"Consolas\", \"Ubuntu Mono\", \"Source Code Pro\", monospace;\n",
       "    font-size: 13px;\n",
       "    color: #555;\n",
       "    margin-left: 4px;\n",
       "    line-height: 19px;\n",
       "  }\n",
       "</style>\n",
       "<div class=\"ansiout\">Out[11]: True</div>"
      ]
     },
     "metadata": {
      "application/vnd.databricks.v1+output": {
       "addedWidgets": {},
       "arguments": {},
       "data": "<div class=\"ansiout\">Out[11]: True</div>",
       "datasetInfos": [],
       "metadata": {},
       "removedWidgets": [],
       "type": "html"
      }
     },
     "output_type": "display_data"
    }
   ],
   "source": [
    "# AWS S3 bucket name\n",
    "AWS_S3_BUCKET = \"user-0e0816526d11-bucket\"\n",
    "# Mount name for the bucket\n",
    "MOUNT_NAME = \"/mnt/user-0e0816526d11-bucket\"\n",
    "# Source url\n",
    "SOURCE_URL = \"s3n://{0}:{1}@{2}\".format(ACCESS_KEY, ENCODED_SECRET_KEY, AWS_S3_BUCKET)\n",
    "# Mount the drive\n",
    "dbutils.fs.mount(SOURCE_URL, MOUNT_NAME)"
   ]
  },
  {
   "cell_type": "code",
   "execution_count": 0,
   "metadata": {
    "application/vnd.databricks.v1+cell": {
     "cellMetadata": {
      "byteLimit": 2048000,
      "rowLimit": 10000
     },
     "inputWidgets": {},
     "nuid": "a8e9f744-bcaf-4012-9e81-e04bdfdfdddd",
     "showTitle": false,
     "title": ""
    }
   },
   "outputs": [
    {
     "output_type": "display_data",
     "data": {
      "text/html": [
       "<style scoped>\n",
       "  .table-result-container {\n",
       "    max-height: 300px;\n",
       "    overflow: auto;\n",
       "  }\n",
       "  table, th, td {\n",
       "    border: 1px solid black;\n",
       "    border-collapse: collapse;\n",
       "  }\n",
       "  th, td {\n",
       "    padding: 5px;\n",
       "  }\n",
       "  th {\n",
       "    text-align: left;\n",
       "  }\n",
       "</style><div class='table-result-container'><table class='table-result'><thead style='background-color: white'><tr><th>path</th><th>name</th><th>size</th><th>modificationTime</th></tr></thead><tbody><tr><td>dbfs:/mnt/user-0e0816526d11-bucket/topics/0e0816526d11.geo/</td><td>0e0816526d11.geo/</td><td>0</td><td>1702493450799</td></tr><tr><td>dbfs:/mnt/user-0e0816526d11-bucket/topics/0e0816526d11.pin/</td><td>0e0816526d11.pin/</td><td>0</td><td>1702493450799</td></tr><tr><td>dbfs:/mnt/user-0e0816526d11-bucket/topics/0e0816526d11.user/</td><td>0e0816526d11.user/</td><td>0</td><td>1702493450799</td></tr></tbody></table></div>"
      ]
     },
     "metadata": {
      "application/vnd.databricks.v1+output": {
       "addedWidgets": {},
       "aggData": [],
       "aggError": "",
       "aggOverflow": false,
       "aggSchema": [],
       "aggSeriesLimitReached": false,
       "aggType": "",
       "arguments": {},
       "columnCustomDisplayInfos": {},
       "data": [
        [
         "dbfs:/mnt/user-0e0816526d11-bucket/topics/0e0816526d11.geo/",
         "0e0816526d11.geo/",
         0,
         1702493450799
        ],
        [
         "dbfs:/mnt/user-0e0816526d11-bucket/topics/0e0816526d11.pin/",
         "0e0816526d11.pin/",
         0,
         1702493450799
        ],
        [
         "dbfs:/mnt/user-0e0816526d11-bucket/topics/0e0816526d11.user/",
         "0e0816526d11.user/",
         0,
         1702493450799
        ]
       ],
       "datasetInfos": [],
       "dbfsResultPath": null,
       "isJsonSchema": true,
       "metadata": {},
       "overflow": false,
       "plotOptions": {
        "customPlotOptions": {},
        "displayType": "table",
        "pivotAggregation": null,
        "pivotColumns": null,
        "xColumns": null,
        "yColumns": null
       },
       "removedWidgets": [],
       "schema": [
        {
         "metadata": "{}",
         "name": "path",
         "type": "\"string\""
        },
        {
         "metadata": "{}",
         "name": "name",
         "type": "\"string\""
        },
        {
         "metadata": "{}",
         "name": "size",
         "type": "\"long\""
        },
        {
         "metadata": "{}",
         "name": "modificationTime",
         "type": "\"long\""
        }
       ],
       "type": "table"
      }
     },
     "output_type": "display_data"
    }
   ],
   "source": [
    "# list the topics stored on the mounted S3 bucket\n",
    "display(dbutils.fs.ls(\"/mnt/user-0e0816526d11-bucket/topics\"))"
   ]
  },
  {
   "cell_type": "code",
   "execution_count": 0,
   "metadata": {
    "application/vnd.databricks.v1+cell": {
     "cellMetadata": {
      "byteLimit": 2048000,
      "rowLimit": 10000
     },
     "inputWidgets": {},
     "nuid": "f1c94be4-7428-4c94-88b8-f3b21d90791c",
     "showTitle": false,
     "title": ""
    }
   },
   "outputs": [
    {
     "output_type": "display_data",
     "data": {
      "text/html": [
       "<style scoped>\n",
       "  .ansiout {\n",
       "    display: block;\n",
       "    unicode-bidi: embed;\n",
       "    white-space: pre-wrap;\n",
       "    word-wrap: break-word;\n",
       "    word-break: break-all;\n",
       "    font-family: \"Menlo\", \"Monaco\", \"Consolas\", \"Ubuntu Mono\", \"Source Code Pro\", monospace;\n",
       "    font-size: 13px;\n",
       "    color: #555;\n",
       "    margin-left: 4px;\n",
       "    line-height: 19px;\n",
       "  }\n",
       "</style>\n",
       "<div class=\"ansiout\">+----+--------------------+--------------------+--------------------+--------------+--------------------+--------------------+-----------------+--------------------+--------------------+--------------+\n",
       " ind|           unique_id|               title|         description|follower_count|         poster_name|            tag_list|is_image_or_video|           image_src|       save_location|      category|\n",
       "+----+--------------------+--------------------+--------------------+--------------+--------------------+--------------------+-----------------+--------------------+--------------------+--------------+\n",
       "5494|8fb2af68-543b-463...|Dave Ramsey&#39;s 7 B...|If you love budge...|         26000|Living Low Key | ...|Financial Peace,F...|            image|https://i.pinimg....|       /data/finance|       finance|\n",
       "6145|82e13a07-db99-43a...|HOLIDAY MANTLE DE...|Holiday mantle de...|         83000|     Stylin by Aylin|Winter Home Decor...|            image|https://i.pinimg....|    /data/home-decor|    home-decor|\n",
       "4315|21b59ba9-829d-4c3...|Podcasts for Teac...|Podcasts for Teac...|         25000|        Math Giraffe|Middle School Cla...|            image|https://i.pinimg....|     /data/education|     education|\n",
       "4315|21b59ba9-829d-4c3...|Podcasts for Teac...|Podcasts for Teac...|         25000|        Math Giraffe|Middle School Cla...|            image|https://i.pinimg....|     /data/education|     education|\n",
       "5069|b75b6f87-deb3-444...|The Vault: Curate...|Sacramento Califo...|       6000000|     Style Me Pretty|60th Anniversary ...|            image|https://i.pinimg....|/data/event-planning|event-planning|\n",
       "6063|60693727-4927-4bd...|41 Gorgeous Fall ...|Beautiful and eas...|         92000|Kristen | Lifesty...|Fall Home Decor,A...|            image|https://i.pinimg....|    /data/home-decor|    home-decor|\n",
       "3454|46bd3f86-b09d-4e2...|What can you use ...|HELPFUL RESOURCES...|          6000|  Mixed Media Crafts|Epoxy Resin Art,D...|            image|https://i.pinimg....|/data/diy-and-crafts|diy-and-crafts|\n",
       "5730|1e1f0c8b-9fcf-460...|Island Oasis Coup...|Description Coupo...|             0|    Consuelo Aguirre|Grocery Items,Gro...|            image|https://i.pinimg....|       /data/finance|       finance|\n",
       "5730|1e1f0c8b-9fcf-460...|Island Oasis Coup...|Description Coupo...|             0|    Consuelo Aguirre|Grocery Items,Gro...|            image|https://i.pinimg....|       /data/finance|       finance|\n",
       "5730|1e1f0c8b-9fcf-460...|Island Oasis Coup...|Description Coupo...|             0|    Consuelo Aguirre|Grocery Items,Gro...|            image|https://i.pinimg....|       /data/finance|       finance|\n",
       "2863|9bf39437-42a6-4f0...|25 Super Fun Summ...|Keep the kids bus...|        124000|Of Life &amp; Lisa | ...|Summer Crafts For...|            image|https://i.pinimg....|/data/diy-and-crafts|diy-and-crafts|\n",
       "2863|9bf39437-42a6-4f0...|25 Super Fun Summ...|Keep the kids bus...|        124000|Of Life &amp; Lisa | ...|Summer Crafts For...|            image|https://i.pinimg....|/data/diy-and-crafts|diy-and-crafts|\n",
       "2863|9bf39437-42a6-4f0...|25 Super Fun Summ...|Keep the kids bus...|        124000|Of Life &amp; Lisa | ...|Summer Crafts For...|            image|https://i.pinimg....|/data/diy-and-crafts|diy-and-crafts|\n",
       "2923|52fa3af5-24a4-4cc...|UFO Paper Plate C...|A fun space activ...|        192000| The Crafting Chicks|Paper Plate Craft...|            image|https://i.pinimg....|/data/diy-and-crafts|diy-and-crafts|\n",
       "8731|ea760f71-febf-402...|20 Koi Fish Tatto...|Koi fish tattoos ...|        211000|     TheTrendSpotter|Dr Tattoo,Wörter ...|            image|https://i.pinimg....|       /data/tattoos|       tattoos|\n",
       "8731|ea760f71-febf-402...|20 Koi Fish Tatto...|Koi fish tattoos ...|        211000|     TheTrendSpotter|Dr Tattoo,Wörter ...|            image|https://i.pinimg....|       /data/tattoos|       tattoos|\n",
       "8731|ea760f71-febf-402...|20 Koi Fish Tatto...|Koi fish tattoos ...|        211000|     TheTrendSpotter|Dr Tattoo,Wörter ...|            image|https://i.pinimg....|       /data/tattoos|       tattoos|\n",
       "8304|5b6d0913-25e4-43a...|The #1 Reason You...|#lovequotes #matc...|         51000|Commitment Connec...|Wise Quotes,Quota...|            image|https://i.pinimg....|        /data/quotes|        quotes|\n",
       "8304|5b6d0913-25e4-43a...|The #1 Reason You...|#lovequotes #matc...|         51000|Commitment Connec...|Wise Quotes,Quota...|            image|https://i.pinimg....|        /data/quotes|        quotes|\n",
       "8304|5b6d0913-25e4-43a...|The #1 Reason You...|#lovequotes #matc...|         51000|Commitment Connec...|Wise Quotes,Quota...|            image|https://i.pinimg....|        /data/quotes|        quotes|\n",
       "+----+--------------------+--------------------+--------------------+--------------+--------------------+--------------------+-----------------+--------------------+--------------------+--------------+\n",
       "only showing top 20 rows\n",
       "\n",
       "</div>"
      ]
     },
     "metadata": {
      "application/vnd.databricks.v1+output": {
       "addedWidgets": {},
       "arguments": {},
       "data": "<div class=\"ansiout\">+----+--------------------+--------------------+--------------------+--------------+--------------------+--------------------+-----------------+--------------------+--------------------+--------------+\n| ind|           unique_id|               title|         description|follower_count|         poster_name|            tag_list|is_image_or_video|           image_src|       save_location|      category|\n+----+--------------------+--------------------+--------------------+--------------+--------------------+--------------------+-----------------+--------------------+--------------------+--------------+\n|5494|8fb2af68-543b-463...|Dave Ramsey&#39;s 7 B...|If you love budge...|         26000|Living Low Key | ...|Financial Peace,F...|            image|https://i.pinimg....|       /data/finance|       finance|\n|6145|82e13a07-db99-43a...|HOLIDAY MANTLE DE...|Holiday mantle de...|         83000|     Stylin by Aylin|Winter Home Decor...|            image|https://i.pinimg....|    /data/home-decor|    home-decor|\n|4315|21b59ba9-829d-4c3...|Podcasts for Teac...|Podcasts for Teac...|         25000|        Math Giraffe|Middle School Cla...|            image|https://i.pinimg....|     /data/education|     education|\n|4315|21b59ba9-829d-4c3...|Podcasts for Teac...|Podcasts for Teac...|         25000|        Math Giraffe|Middle School Cla...|            image|https://i.pinimg....|     /data/education|     education|\n|5069|b75b6f87-deb3-444...|The Vault: Curate...|Sacramento Califo...|       6000000|     Style Me Pretty|60th Anniversary ...|            image|https://i.pinimg....|/data/event-planning|event-planning|\n|6063|60693727-4927-4bd...|41 Gorgeous Fall ...|Beautiful and eas...|         92000|Kristen | Lifesty...|Fall Home Decor,A...|            image|https://i.pinimg....|    /data/home-decor|    home-decor|\n|3454|46bd3f86-b09d-4e2...|What can you use ...|HELPFUL RESOURCES...|          6000|  Mixed Media Crafts|Epoxy Resin Art,D...|            image|https://i.pinimg....|/data/diy-and-crafts|diy-and-crafts|\n|5730|1e1f0c8b-9fcf-460...|Island Oasis Coup...|Description Coupo...|             0|    Consuelo Aguirre|Grocery Items,Gro...|            image|https://i.pinimg....|       /data/finance|       finance|\n|5730|1e1f0c8b-9fcf-460...|Island Oasis Coup...|Description Coupo...|             0|    Consuelo Aguirre|Grocery Items,Gro...|            image|https://i.pinimg....|       /data/finance|       finance|\n|5730|1e1f0c8b-9fcf-460...|Island Oasis Coup...|Description Coupo...|             0|    Consuelo Aguirre|Grocery Items,Gro...|            image|https://i.pinimg....|       /data/finance|       finance|\n|2863|9bf39437-42a6-4f0...|25 Super Fun Summ...|Keep the kids bus...|        124000|Of Life &amp; Lisa | ...|Summer Crafts For...|            image|https://i.pinimg....|/data/diy-and-crafts|diy-and-crafts|\n|2863|9bf39437-42a6-4f0...|25 Super Fun Summ...|Keep the kids bus...|        124000|Of Life &amp; Lisa | ...|Summer Crafts For...|            image|https://i.pinimg....|/data/diy-and-crafts|diy-and-crafts|\n|2863|9bf39437-42a6-4f0...|25 Super Fun Summ...|Keep the kids bus...|        124000|Of Life &amp; Lisa | ...|Summer Crafts For...|            image|https://i.pinimg....|/data/diy-and-crafts|diy-and-crafts|\n|2923|52fa3af5-24a4-4cc...|UFO Paper Plate C...|A fun space activ...|        192000| The Crafting Chicks|Paper Plate Craft...|            image|https://i.pinimg....|/data/diy-and-crafts|diy-and-crafts|\n|8731|ea760f71-febf-402...|20 Koi Fish Tatto...|Koi fish tattoos ...|        211000|     TheTrendSpotter|Dr Tattoo,Wörter ...|            image|https://i.pinimg....|       /data/tattoos|       tattoos|\n|8731|ea760f71-febf-402...|20 Koi Fish Tatto...|Koi fish tattoos ...|        211000|     TheTrendSpotter|Dr Tattoo,Wörter ...|            image|https://i.pinimg....|       /data/tattoos|       tattoos|\n|8731|ea760f71-febf-402...|20 Koi Fish Tatto...|Koi fish tattoos ...|        211000|     TheTrendSpotter|Dr Tattoo,Wörter ...|            image|https://i.pinimg....|       /data/tattoos|       tattoos|\n|8304|5b6d0913-25e4-43a...|The #1 Reason You...|#lovequotes #matc...|         51000|Commitment Connec...|Wise Quotes,Quota...|            image|https://i.pinimg....|        /data/quotes|        quotes|\n|8304|5b6d0913-25e4-43a...|The #1 Reason You...|#lovequotes #matc...|         51000|Commitment Connec...|Wise Quotes,Quota...|            image|https://i.pinimg....|        /data/quotes|        quotes|\n|8304|5b6d0913-25e4-43a...|The #1 Reason You...|#lovequotes #matc...|         51000|Commitment Connec...|Wise Quotes,Quota...|            image|https://i.pinimg....|        /data/quotes|        quotes|\n+----+--------------------+--------------------+--------------------+--------------+--------------------+--------------------+-----------------+--------------------+--------------------+--------------+\nonly showing top 20 rows\n\n</div>",
       "datasetInfos": [],
       "metadata": {},
       "removedWidgets": [],
       "type": "html"
      }
     },
     "output_type": "display_data"
    }
   ],
   "source": [
    "# create path to topic files\n",
    "file_location = \"/mnt/user-0e0816526d11-bucket/topics/0e0816526d11.pin/partition=0/*.json\"\n",
    "# specify file type\n",
    "file_type = \"json\"\n",
    "# Ask Spark to infer the schema\n",
    "infer_schema = \"true\"\n",
    "# load JSONs from mounted S3 bucket to Spark dataframe\n",
    "df_pin = spark.read.format(file_type) \\\n",
    "    .option(\"inferSchema\", infer_schema) \\\n",
    "    .load(file_location)\n",
    "\n",
    "# cleaning Pinterest dataframe\n",
    "df_pin = df_pin.replace(\"No description available Story format\", None)\n",
    "df_pin = df_pin.replace(\"null\", None)\n",
    "df_pin = df_pin.replace(\"User Info Error\", None)\n",
    "df_pin = df_pin.replace(\"Image src error\", None)\n",
    "df_pin = df_pin.replace(\"N,o, ,T,a,g,s, ,A,v,a,i,l,a,b,l,e\", None)\n",
    "df_pin = df_pin.replace(\"No Title Data Available\", None)\n",
    "\n",
    "# transforms the 'follower_count' col from string to integer and checks if the value matches a pattern that contains either k or M \n",
    "df_pin = df_pin.withColumn(\"follower_count\", when(\n",
    "    col(\"follower_count\").rlike(\"\\d+k\"),(regexp_extract(col(\"follower_count\"),\"(\\d+)\",1).cast(\"integer\") * 1000)).when(col(\"follower_count\").rlike(\"\\d+M\"),(regexp_extract(col(\"follower_count\"), \"(\\d+)\", 1).cast(\"integer\") * 1000000))\n",
    "# otherwise, if it doesn't matches it leaves the full integer value\n",
    ".otherwise(col(\"follower_count\").cast(\"integer\")))\n",
    "\n",
    "# cleaning the 'save_location' column by removing 'Local save in ' text and just leaving the path for the 'save_location' column\n",
    "df_pin = df_pin.withColumn(\"save_location\", regexp_replace(\"save_location\", \"Local save in \", \"\"))\n",
    "\n",
    "# Renaming the column\n",
    "df_pin = df_pin.withColumnRenamed(\"index\", \"ind\")\n",
    "\n",
    "# rearranging the Pinterest columns\n",
    "reorder_col = [\"ind\", \"unique_id\", \"title\", \"description\", \"follower_count\", \"poster_name\", \"tag_list\", \"is_image_or_video\", \"image_src\", \"save_location\", \"category\"]\n",
    "df_pin = df_pin.select(reorder_col)\n",
    "\n",
    "# Show the table of the Pinterest data\n",
    "df_pin.show()"
   ]
  },
  {
   "cell_type": "code",
   "execution_count": 0,
   "metadata": {
    "application/vnd.databricks.v1+cell": {
     "cellMetadata": {
      "byteLimit": 2048000,
      "rowLimit": 10000
     },
     "inputWidgets": {},
     "nuid": "77d133f8-eec2-4018-86bc-aa8242b2c063",
     "showTitle": false,
     "title": ""
    }
   },
   "outputs": [
    {
     "output_type": "display_data",
     "data": {
      "text/html": [
       "<style scoped>\n",
       "  .ansiout {\n",
       "    display: block;\n",
       "    unicode-bidi: embed;\n",
       "    white-space: pre-wrap;\n",
       "    word-wrap: break-word;\n",
       "    word-break: break-all;\n",
       "    font-family: \"Menlo\", \"Monaco\", \"Consolas\", \"Ubuntu Mono\", \"Source Code Pro\", monospace;\n",
       "    font-size: 13px;\n",
       "    color: #555;\n",
       "    margin-left: 4px;\n",
       "    line-height: 19px;\n",
       "  }\n",
       "</style>\n",
       "<div class=\"ansiout\">+-----+--------------------+--------------------+-------------------+\n",
       "  ind|             country|         coordinates|          timestamp|\n",
       "+-----+--------------------+--------------------+-------------------+\n",
       "10794|Cocos (Keeling) I...|[-89.5236, -154.567]|2022-01-01 02:26:50|\n",
       " null|         [&#34;country&#34;]|[[&#34;latitude&#34;], [&#34;...|               null|\n",
       " null|         [&#34;country&#34;]|[[&#34;latitude&#34;], [&#34;...|               null|\n",
       " null|         [&#34;country&#34;]|[[&#34;latitude&#34;], [&#34;...|               null|\n",
       " null|         [&#34;country&#34;]|[[&#34;latitude&#34;], [&#34;...|               null|\n",
       " 2923|       Cote d&#39;Ivoire|[-84.6302, -164.507]|2019-09-08 22:53:09|\n",
       " 8304|       French Guiana| [-28.8852, -164.87]|2019-09-13 04:50:29|\n",
       " 4315|       Cote d&#39;Ivoire| [-45.8508, 66.1003]|2019-12-15 03:51:28|\n",
       " 8304|       French Guiana| [-28.8852, -164.87]|2019-09-13 04:50:29|\n",
       " 8304|       French Guiana| [-28.8852, -164.87]|2019-09-13 04:50:29|\n",
       " 5069|          Azerbaijan|[-63.0063, -157.474]|2021-03-20 09:32:44|\n",
       " 6145|          Mozambique|[-65.9079, -143.845]|2019-12-05 02:09:44|\n",
       " 5494|            Bulgaria|[-82.6768, -129.202]|2021-07-21 02:02:35|\n",
       " 6063|            Anguilla|[-89.1797, -174.015]|2021-07-20 09:02:47|\n",
       " 3454|            Cambodia|[-0.375174, 49.8106]|2021-07-25 02:20:29|\n",
       "10625|             Jamaica|[-84.4944, -81.0613]|2018-07-13 11:51:15|\n",
       " 7528|             Albania|[-89.9787, -173.293]|2020-08-28 03:52:47|\n",
       " 2863|             Armenia|[-5.34445, -177.924]|2020-04-27 13:34:16|\n",
       " 5730|            Colombia| [-77.015, -101.437]|2021-04-19 17:37:03|\n",
       " 3089|             Albania|[-89.9787, -173.293]|2018-02-28 05:31:29|\n",
       "+-----+--------------------+--------------------+-------------------+\n",
       "only showing top 20 rows\n",
       "\n",
       "</div>"
      ]
     },
     "metadata": {
      "application/vnd.databricks.v1+output": {
       "addedWidgets": {},
       "arguments": {},
       "data": "<div class=\"ansiout\">+-----+--------------------+--------------------+-------------------+\n|  ind|             country|         coordinates|          timestamp|\n+-----+--------------------+--------------------+-------------------+\n|10794|Cocos (Keeling) I...|[-89.5236, -154.567]|2022-01-01 02:26:50|\n| null|         [&#34;country&#34;]|[[&#34;latitude&#34;], [&#34;...|               null|\n| null|         [&#34;country&#34;]|[[&#34;latitude&#34;], [&#34;...|               null|\n| null|         [&#34;country&#34;]|[[&#34;latitude&#34;], [&#34;...|               null|\n| null|         [&#34;country&#34;]|[[&#34;latitude&#34;], [&#34;...|               null|\n| 2923|       Cote d&#39;Ivoire|[-84.6302, -164.507]|2019-09-08 22:53:09|\n| 8304|       French Guiana| [-28.8852, -164.87]|2019-09-13 04:50:29|\n| 4315|       Cote d&#39;Ivoire| [-45.8508, 66.1003]|2019-12-15 03:51:28|\n| 8304|       French Guiana| [-28.8852, -164.87]|2019-09-13 04:50:29|\n| 8304|       French Guiana| [-28.8852, -164.87]|2019-09-13 04:50:29|\n| 5069|          Azerbaijan|[-63.0063, -157.474]|2021-03-20 09:32:44|\n| 6145|          Mozambique|[-65.9079, -143.845]|2019-12-05 02:09:44|\n| 5494|            Bulgaria|[-82.6768, -129.202]|2021-07-21 02:02:35|\n| 6063|            Anguilla|[-89.1797, -174.015]|2021-07-20 09:02:47|\n| 3454|            Cambodia|[-0.375174, 49.8106]|2021-07-25 02:20:29|\n|10625|             Jamaica|[-84.4944, -81.0613]|2018-07-13 11:51:15|\n| 7528|             Albania|[-89.9787, -173.293]|2020-08-28 03:52:47|\n| 2863|             Armenia|[-5.34445, -177.924]|2020-04-27 13:34:16|\n| 5730|            Colombia| [-77.015, -101.437]|2021-04-19 17:37:03|\n| 3089|             Albania|[-89.9787, -173.293]|2018-02-28 05:31:29|\n+-----+--------------------+--------------------+-------------------+\nonly showing top 20 rows\n\n</div>",
       "datasetInfos": [],
       "metadata": {},
       "removedWidgets": [],
       "type": "html"
      }
     },
     "output_type": "display_data"
    }
   ],
   "source": [
    "file_location = \"/mnt/user-0e0816526d11-bucket/topics/0e0816526d11.geo/partition=0/*.json\"\n",
    "# specify file type\n",
    "file_type = \"json\"\n",
    "# Ask Spark to infer the schema\n",
    "infer_schema = \"true\"\n",
    "# load JSONs from mounted S3 bucket to Spark dataframe\n",
    "df_geo = spark.read.format(file_type) \\\n",
    "    .option(\"inferSchema\", infer_schema) \\\n",
    "    .load(file_location)\n",
    "\n",
    "# created a new column containing latitude and longitude\n",
    "df_geo = df_geo.withColumn(\"coordinates\", array(col(\"latitude\"), col(\"longitude\")))\n",
    "\n",
    "# dropping columns\n",
    "df_geo = df_geo.drop(\"latitude\", \"longitude\")\n",
    "\n",
    "df_geo = df_geo.withColumn(\"timestamp\", to_timestamp(df_geo[\"timestamp\"], \"yyyy-MM-dd HH:mm:ss\"))\n",
    "\n",
    "geo_reorder_col = [\"ind\", \"country\", \"coordinates\", \"timestamp\"]\n",
    "df_geo = df_geo.select(geo_reorder_col)\n",
    "\n",
    "# Show the table of the Geolocation data\n",
    "df_geo.show()"
   ]
  },
  {
   "cell_type": "code",
   "execution_count": 0,
   "metadata": {
    "application/vnd.databricks.v1+cell": {
     "cellMetadata": {
      "byteLimit": 2048000,
      "rowLimit": 10000
     },
     "inputWidgets": {},
     "nuid": "4a8b7c4f-1f6e-45a3-aff6-36e493d646de",
     "showTitle": false,
     "title": ""
    }
   },
   "outputs": [
    {
     "output_type": "display_data",
     "data": {
      "text/html": [
       "<style scoped>\n",
       "  .ansiout {\n",
       "    display: block;\n",
       "    unicode-bidi: embed;\n",
       "    white-space: pre-wrap;\n",
       "    word-wrap: break-word;\n",
       "    word-break: break-all;\n",
       "    font-family: \"Menlo\", \"Monaco\", \"Consolas\", \"Ubuntu Mono\", \"Source Code Pro\", monospace;\n",
       "    font-size: 13px;\n",
       "    color: #555;\n",
       "    margin-left: 4px;\n",
       "    line-height: 19px;\n",
       "  }\n",
       "</style>\n",
       "<div class=\"ansiout\">+-----+--------------------+-------+-------------------+\n",
       "  ind|           user_name|    age|        date_joined|\n",
       "+-----+--------------------+-------+-------------------+\n",
       " null|[&#34;first_name&#34;] [&#34;...|[&#34;age&#34;]|               null|\n",
       " null|[&#34;first_name&#34;] [&#34;...|[&#34;age&#34;]|               null|\n",
       " null|[&#34;first_name&#34;] [&#34;...|[&#34;age&#34;]|               null|\n",
       " null|[&#34;first_name&#34;] [&#34;...|[&#34;age&#34;]|               null|\n",
       " 8731|    Andrea Alexander|     21|2015-11-10 09:27:42|\n",
       " 8731|    Andrea Alexander|     21|2015-11-10 09:27:42|\n",
       " 4315|     Michelle Prince|     36|2015-12-20 16:38:13|\n",
       "10625|      Christian Lang|     32|2017-10-10 20:09:33|\n",
       " 1313|      Brittany Jones|     32|2016-04-02 03:51:23|\n",
       "10794|       Thomas Turner|     34|2016-12-22 00:02:02|\n",
       " 1313|      Brittany Jones|     32|2016-04-02 03:51:23|\n",
       " 8304|       Charles Berry|     25|2015-12-28 04:21:39|\n",
       " 6063|       Corey Andrews|     23|2015-11-25 13:36:22|\n",
       " 3454|       Robert Murphy|     48|2017-09-26 16:31:56|\n",
       " 7554|       Cheryl Huerta|     20|2017-04-11 16:35:33|\n",
       " 6145|       Emily Hawkins|     30|2015-12-25 20:24:37|\n",
       " 8304|       Charles Berry|     25|2015-12-28 04:21:39|\n",
       " 8304|       Charles Berry|     25|2015-12-28 04:21:39|\n",
       " 2863|        Dylan Holmes|     32|2016-10-23 14:06:51|\n",
       " 5730|        Rachel Davis|     36|2015-12-08 20:02:43|\n",
       "+-----+--------------------+-------+-------------------+\n",
       "only showing top 20 rows\n",
       "\n",
       "</div>"
      ]
     },
     "metadata": {
      "application/vnd.databricks.v1+output": {
       "addedWidgets": {},
       "arguments": {},
       "data": "<div class=\"ansiout\">+-----+--------------------+-------+-------------------+\n|  ind|           user_name|    age|        date_joined|\n+-----+--------------------+-------+-------------------+\n| null|[&#34;first_name&#34;] [&#34;...|[&#34;age&#34;]|               null|\n| null|[&#34;first_name&#34;] [&#34;...|[&#34;age&#34;]|               null|\n| null|[&#34;first_name&#34;] [&#34;...|[&#34;age&#34;]|               null|\n| null|[&#34;first_name&#34;] [&#34;...|[&#34;age&#34;]|               null|\n| 8731|    Andrea Alexander|     21|2015-11-10 09:27:42|\n| 8731|    Andrea Alexander|     21|2015-11-10 09:27:42|\n| 4315|     Michelle Prince|     36|2015-12-20 16:38:13|\n|10625|      Christian Lang|     32|2017-10-10 20:09:33|\n| 1313|      Brittany Jones|     32|2016-04-02 03:51:23|\n|10794|       Thomas Turner|     34|2016-12-22 00:02:02|\n| 1313|      Brittany Jones|     32|2016-04-02 03:51:23|\n| 8304|       Charles Berry|     25|2015-12-28 04:21:39|\n| 6063|       Corey Andrews|     23|2015-11-25 13:36:22|\n| 3454|       Robert Murphy|     48|2017-09-26 16:31:56|\n| 7554|       Cheryl Huerta|     20|2017-04-11 16:35:33|\n| 6145|       Emily Hawkins|     30|2015-12-25 20:24:37|\n| 8304|       Charles Berry|     25|2015-12-28 04:21:39|\n| 8304|       Charles Berry|     25|2015-12-28 04:21:39|\n| 2863|        Dylan Holmes|     32|2016-10-23 14:06:51|\n| 5730|        Rachel Davis|     36|2015-12-08 20:02:43|\n+-----+--------------------+-------+-------------------+\nonly showing top 20 rows\n\n</div>",
       "datasetInfos": [],
       "metadata": {},
       "removedWidgets": [],
       "type": "html"
      }
     },
     "output_type": "display_data"
    }
   ],
   "source": [
    "file_location = \"/mnt/user-0e0816526d11-bucket/topics/0e0816526d11.user/partition=0/*.json\"\n",
    "# specify file type\n",
    "file_type = \"json\"\n",
    "# Ask Spark to infer the schema\n",
    "infer_schema = \"true\"\n",
    "# load JSONs from mounted S3 bucket to Spark dataframe\n",
    "df_user = spark.read.format(file_type) \\\n",
    "    .option(\"inferSchema\", infer_schema) \\\n",
    "    .load(file_location)\n",
    "\n",
    "df_user = df_user.withColumn(\"user_name\", concat(col(\"first_name\"),lit(\" \"),col(\"last_name\")))\n",
    "df_user = df_user.drop(\"first_name\",\"last_name\",\"index\")\n",
    "df_user = df_user.withColumn(\"date_joined\", to_timestamp(df_user[\"date_joined\"], \"yyyy-MM-dd HH:mm:ss\"))\n",
    "\n",
    "user_reorder_col = [\"ind\",\"user_name\",\"age\",\"date_joined\"]\n",
    "df_user = df_user.select(user_reorder_col)\n",
    "\n",
    "# Show the table of the User data\n",
    "df_user.show()"
   ]
  },
  {
   "cell_type": "code",
   "execution_count": 0,
   "metadata": {
    "application/vnd.databricks.v1+cell": {
     "cellMetadata": {
      "byteLimit": 2048000,
      "rowLimit": 10000
     },
     "inputWidgets": {},
     "nuid": "9f9e79d5-1138-4450-8d6d-bd2b9a47ab9a",
     "showTitle": false,
     "title": ""
    }
   },
   "outputs": [
    {
     "output_type": "display_data",
     "data": {
      "text/html": [
       "<style scoped>\n",
       "  .ansiout {\n",
       "    display: block;\n",
       "    unicode-bidi: embed;\n",
       "    white-space: pre-wrap;\n",
       "    word-wrap: break-word;\n",
       "    word-break: break-all;\n",
       "    font-family: \"Menlo\", \"Monaco\", \"Consolas\", \"Ubuntu Mono\", \"Source Code Pro\", monospace;\n",
       "    font-size: 13px;\n",
       "    color: #555;\n",
       "    margin-left: 4px;\n",
       "    line-height: 19px;\n",
       "  }\n",
       "</style>\n",
       "<div class=\"ansiout\">/mnt/user-0e0816526d11-bucket has been unmounted.\n",
       "Out[6]: True</div>"
      ]
     },
     "metadata": {
      "application/vnd.databricks.v1+output": {
       "addedWidgets": {},
       "arguments": {},
       "data": "<div class=\"ansiout\">/mnt/user-0e0816526d11-bucket has been unmounted.\nOut[6]: True</div>",
       "datasetInfos": [],
       "metadata": {},
       "removedWidgets": [],
       "type": "html"
      }
     },
     "output_type": "display_data"
    }
   ],
   "source": [
    "dbutils.fs.unmount(\"/mnt/user-0e0816526d11-bucket\")"
   ]
  }
 ],
 "metadata": {
  "application/vnd.databricks.v1+notebook": {
   "dashboards": [],
   "language": "python",
   "notebookMetadata": {
    "pythonIndentUnit": 4
   },
   "notebookName": "batch_processing_databricks",
   "widgets": {}
  }
 },
 "nbformat": 4,
 "nbformat_minor": 0
}
